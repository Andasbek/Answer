{
  "nbformat": 4,
  "nbformat_minor": 0,
  "metadata": {
    "colab": {
      "provenance": []
    },
    "kernelspec": {
      "name": "python3",
      "display_name": "Python 3"
    },
    "language_info": {
      "name": "python"
    }
  },
  "cells": [
    {
      "cell_type": "markdown",
      "source": [
        "# 1️⃣ **Описание шаблона для решения задачи.**\n",
        "\n",
        "**Задача**: обучить несколько бустингов на 3-х фолдах, выбрать лучшие, усреднить предсказания.\n",
        "\n",
        "**Модели, которые будем обучать:**\n",
        "- `CatBoostRegressor`\n",
        "- `LightGBMRegressor (goss)`\n",
        "- `XGBoostRegressor (dart)`\n",
        "\n",
        "\n",
        "✅ Будут выполнены:\n",
        "- все дополнительные условия\n",
        "- возможности фреймворков (загрузка датасетов с помощью соответствующих классов, правильная подготовка категориальных признаков, early_stopping, многопоточность)\n",
        "- подбор гиперпараметров для каждой модели\n",
        "\n",
        "👀 При желании, рекомендуется проделать следующее:\n",
        "- Провести EDA (Exploratory Data Analysis) и сделать выводы на основе графики\n",
        "- Провести Feature Selection\n",
        "- Провести Object Selection\n",
        "- Использовать scheduler или custom callbacks\n",
        "- Обучить дополнительные модели\n",
        "\n",
        "\n",
        "❗️❗️❗️ **P.S.**\n",
        "- Данный ноутбук - далеко не единственное верное решение, воспринимайте его как помощник для вашего собственного решения или чтобы побороть страх белого листа :)\n",
        "\n",
        "- При полном заполнении ноутбука можно получить максимум 9 баллов из 10, так как из дополнительных баллов - только балл за подбор гиперпараметров.\n",
        "\n",
        "- При любых найденных ошибках/опечатках/непонятных моментов в коде, пишите в [чат курса](https://stepik.org/lesson/681941/step/6?unit=680724)"
      ],
      "metadata": {
        "id": "xcAIjkpfJgAT"
      }
    },
    {
      "cell_type": "markdown",
      "source": [
        "# 2️⃣ **Подключение необходимых библиотек и загрузка данных.**"
      ],
      "metadata": {
        "id": "Jd69gcnIKuqq"
      }
    },
    {
      "cell_type": "code",
      "source": [
        "!pip install catboost lightgbm xgboost -q"
      ],
      "metadata": {
        "id": "R8K6kvfHK442",
        "colab": {
          "base_uri": "https://localhost:8080/"
        },
        "outputId": "f57c7ea2-1336-491d-bafa-254a2b048a57"
      },
      "execution_count": 2,
      "outputs": [
        {
          "output_type": "stream",
          "name": "stdout",
          "text": [
            "\u001b[2K   \u001b[90m━━━━━━━━━━━━━━━━━━━━━━━━━━━━━━━━━━━━━━━━\u001b[0m \u001b[32m99.2/99.2 MB\u001b[0m \u001b[31m9.1 MB/s\u001b[0m eta \u001b[36m0:00:00\u001b[0m\n",
            "\u001b[?25h"
          ]
        }
      ]
    },
    {
      "cell_type": "code",
      "source": [
        "import numpy as np\n",
        "import pandas as pd\n",
        "\n",
        "from sklearn.model_selection import KFold, RandomizedSearchCV\n",
        "from sklearn.metrics import mean_squared_error\n",
        "from sklearn.preprocessing import LabelEncoder\n",
        "\n",
        "from catboost import CatBoostRegressor, Pool\n",
        "\n",
        "import lightgbm as lgb\n",
        "from lightgbm import Dataset, LGBMRegressor\n",
        "\n",
        "import xgboost as xgb\n",
        "from xgboost import XGBRegressor\n",
        "\n",
        "import warnings\n",
        "warnings.filterwarnings('ignore')"
      ],
      "metadata": {
        "id": "9-gwHQUZKzQ1"
      },
      "execution_count": 3,
      "outputs": []
    },
    {
      "cell_type": "code",
      "source": [
        "train = pd.read_csv('https://raw.githubusercontent.com/a-milenkin/Competitive_Data_Science/main/data/quickstart_train.csv')\n",
        "test = pd.read_csv('https://raw.githubusercontent.com/a-milenkin/Competitive_Data_Science/main/data/quickstart_test.csv')"
      ],
      "metadata": {
        "id": "vPIRk3-kK7CF"
      },
      "execution_count": 4,
      "outputs": []
    },
    {
      "cell_type": "code",
      "source": [
        "RANDOM_STATE = 101 # Ваше любимое число :)"
      ],
      "metadata": {
        "id": "Tg2-UN6fK-QJ"
      },
      "execution_count": 5,
      "outputs": []
    },
    {
      "cell_type": "code",
      "source": [
        "results = [] # Здесь будем хранить информацию по каждой модели"
      ],
      "metadata": {
        "id": "eUiOUxQXLjj2"
      },
      "execution_count": 6,
      "outputs": []
    },
    {
      "cell_type": "markdown",
      "source": [
        "# 3️⃣ **Определим вспомогательные функции.**"
      ],
      "metadata": {
        "id": "bcz6wiDEMBHu"
      }
    },
    {
      "cell_type": "code",
      "source": [
        "from sklearn.model_selection import KFold\n",
        "from sklearn.metrics import mean_squared_error\n",
        "import numpy as np\n",
        "import lightgbm as lgb\n",
        "import xgboost as xgb\n",
        "from catboost import Pool\n",
        "\n",
        "def train_model(algorithm,\n",
        "                X,\n",
        "                y,\n",
        "                early_stopping_rounds,\n",
        "                init_params=None,\n",
        "                cat_features=None,\n",
        "                random_seed=2023):\n",
        "\n",
        "    scores = []\n",
        "    models = []\n",
        "\n",
        "    # Инициализация K-Fold кросс-валидации\n",
        "    kf = KFold(n_splits=3, shuffle=True, random_state=random_seed)\n",
        "    print(f\"========= TRAINING {algorithm.__name__} =========\")\n",
        "\n",
        "    for num_fold, (train_index, val_index) in enumerate(kf.split(X)):\n",
        "        # Делим данные на обучающую и валидационную выборку\n",
        "        X_train, X_eval = X.iloc[train_index], X.iloc[val_index]\n",
        "        y_train, y_eval = y.iloc[train_index], y.iloc[val_index]\n",
        "\n",
        "        # Инициализация модели\n",
        "        if init_params is not None:\n",
        "            model = algorithm(**init_params)\n",
        "        else:\n",
        "            model = algorithm()\n",
        "\n",
        "        # Обучение CatBoost\n",
        "        if algorithm.__name__ == 'CatBoostRegressor':\n",
        "            train_dataset = Pool(data=X_train, label=y_train, cat_features=cat_features)\n",
        "            eval_dataset = Pool(data=X_eval, label=y_eval, cat_features=cat_features)\n",
        "\n",
        "            model.fit(train_dataset,\n",
        "                      eval_set=eval_dataset,\n",
        "                      verbose=0,\n",
        "                      early_stopping_rounds=early_stopping_rounds)\n",
        "\n",
        "        # Обучение LightGBM\n",
        "        elif algorithm.__name__ == 'LGBMRegressor':\n",
        "            model.fit(\n",
        "            X_train,\n",
        "            y_train,\n",
        "            eval_set=[(X_eval, y_eval)],\n",
        "            eval_metric='rmse',\n",
        "            categorical_feature=cat_features,\n",
        "            # verbose=False\n",
        "          )\n",
        "\n",
        "\n",
        "\n",
        "        # Обучение XGBoost\n",
        "        elif algorithm.__name__ == 'XGBRegressor':\n",
        "            train_dataset = xgb.DMatrix(data=X_train, label=y_train)\n",
        "            eval_dataset = xgb.DMatrix(data=X_eval, label=y_eval)\n",
        "\n",
        "            model = xgb.train(params=init_params,\n",
        "                              dtrain=train_dataset,\n",
        "                              evals=[(train_dataset, 'dtrain'), (eval_dataset, 'dtest')],\n",
        "                              verbose_eval=False,\n",
        "                              early_stopping_rounds=early_stopping_rounds)\n",
        "\n",
        "            X_eval = eval_dataset  # используется ниже при предсказании\n",
        "\n",
        "        # Предсказание и вычисление RMSE\n",
        "        if algorithm.__name__ == 'XGBRegressor':\n",
        "            y_pred = model.predict(X_eval)\n",
        "        else:\n",
        "            y_pred = model.predict(X_eval)\n",
        "\n",
        "        score = np.sqrt(mean_squared_error(y_eval, y_pred))\n",
        "\n",
        "        models.append(model)\n",
        "        scores.append(score)\n",
        "\n",
        "        print(f'FOLD {num_fold}: RMSE = {score:.4f}')\n",
        "\n",
        "    # Финальная метрика: среднее - стандартное отклонение\n",
        "    mean_kfold_score = np.mean(scores, dtype=\"float16\") - np.std(scores, dtype=\"float16\")\n",
        "    print(\"\\nMEAN RMSE SCORE (mean - std):\", mean_kfold_score)\n",
        "\n",
        "    # Выбор лучшей модели\n",
        "    best_model_index = np.argmin(scores)\n",
        "    best_model = models[best_model_index]\n",
        "\n",
        "    return mean_kfold_score, best_model\n"
      ],
      "metadata": {
        "id": "fqAVKKYLMHph"
      },
      "execution_count": 27,
      "outputs": []
    },
    {
      "cell_type": "code",
      "source": [
        "def tuning_hyperparams(algorithm,\n",
        "                       X,\n",
        "                       y,\n",
        "                       init_params,\n",
        "                       fit_params,\n",
        "                       grid_params,\n",
        "                       n_iter,\n",
        "                       cv=3,\n",
        "                       random_state=2023,\n",
        "    ):\n",
        "\n",
        "    estimator = algorithm(**init_params)\n",
        "\n",
        "    # Можно использоавть GridSearchCV\n",
        "    model = RandomizedSearchCV(estimator=estimator,\n",
        "                               param_distributions=grid_params,\n",
        "                               n_iter=n_iter,\n",
        "                               cv=cv,\n",
        "                               scoring='neg_root_mean_squared_error',\n",
        "                               n_jobs=-1,\n",
        "                               verbose=0,\n",
        "                               random_state=random_state\n",
        "    )\n",
        "\n",
        "    model.fit(X, y, **fit_params)\n",
        "\n",
        "    return model.best_params_ | init_params"
      ],
      "metadata": {
        "id": "e-MKlTnfM6MA"
      },
      "execution_count": 8,
      "outputs": []
    },
    {
      "cell_type": "markdown",
      "source": [
        "# 4️⃣ **Группируем признаки, отбираем категориальные, выделяем датасет для обучения.**"
      ],
      "metadata": {
        "id": "1a6FylJCLU7h"
      }
    },
    {
      "cell_type": "code",
      "source": [
        "# Целевые переменные — одна для регрессии, другая для классификации\n",
        "targets = ['target_reg', 'target_class']\n",
        "\n",
        "# Столбец, который нужно исключить (идентификатор)\n",
        "features2drop = ['car_id']\n",
        "\n",
        "# Категориальные признаки (по смыслу, они имеют тип 'object')\n",
        "cat_features = ['model', 'car_type', 'fuel_type']\n",
        "\n",
        "# Признаки для обучения (исключаем целевые и car_id)\n",
        "filtered_features = [col for col in train.columns if col not in targets + features2drop]\n",
        "\n",
        "# Числовые признаки — всё остальное из filtered_features\n",
        "num_features = [col for col in filtered_features if col not in cat_features]\n",
        "\n",
        "# Выводим для проверки\n",
        "print(\"cat_features:\", cat_features)\n",
        "print(\"num_features:\", num_features)\n",
        "print(\"targets:\", targets)\n"
      ],
      "metadata": {
        "id": "onk3dKxWLeA4",
        "colab": {
          "base_uri": "https://localhost:8080/"
        },
        "outputId": "0ab15863-182f-4e00-fda7-2652744d047f"
      },
      "execution_count": 10,
      "outputs": [
        {
          "output_type": "stream",
          "name": "stdout",
          "text": [
            "cat_features: ['model', 'car_type', 'fuel_type']\n",
            "num_features: ['car_rating', 'year_to_start', 'riders', 'year_to_work', 'mean_rating', 'distance_sum', 'rating_min', 'speed_max', 'user_ride_quality_median', 'deviation_normal_count', 'user_uniq']\n",
            "targets: ['target_reg', 'target_class']\n"
          ]
        }
      ]
    },
    {
      "cell_type": "code",
      "source": [
        "X = train[filtered_features].drop(targets, axis=1, errors=\"ignore\")\n",
        "y = train[\"target_reg\"]"
      ],
      "metadata": {
        "id": "xQscXB71LyD3"
      },
      "execution_count": 11,
      "outputs": []
    },
    {
      "cell_type": "markdown",
      "source": [
        "# 5️⃣ **CatBoostRegressor.**\n",
        "\n"
      ],
      "metadata": {
        "id": "lnhblPO4NLtH"
      }
    },
    {
      "cell_type": "markdown",
      "source": [
        "## **Обучение модели.**"
      ],
      "metadata": {
        "id": "qXCeIM5PNQL8"
      }
    },
    {
      "cell_type": "code",
      "source": [
        "from catboost import CatBoostRegressor\n",
        "\n",
        "# Инициализация гиперпараметров CatBoost для задачи регрессии\n",
        "cb_init_params = {\n",
        "    'loss_function': 'RMSE',           # Целевая функция — RMSE (корень из среднеквадратичной ошибки)\n",
        "    'eval_metric': 'RMSE',             # Метрика для оценки на валидации\n",
        "    'thread_count': -1,                # Использовать все доступные ядра\n",
        "    'task_type': 'CPU',                # Используем CPU (можно поменять на 'GPU', если доступно)\n",
        "    'random_seed': RANDOM_STATE        # Для воспроизводимости\n",
        "}\n",
        "\n",
        "# Обучение модели CatBoost с кросс-валидацией\n",
        "cb_score, cb_model = train_model(\n",
        "    algorithm=CatBoostRegressor,       # Класс модели\n",
        "    X=X,                               # Признаки\n",
        "    y=y,                               # Целевая переменная\n",
        "    init_params=cb_init_params,        # Параметры модели\n",
        "    early_stopping_rounds=50,          # Остановка, если 50 итераций без улучшения\n",
        "    cat_features=cat_features,         # Список категориальных признаков\n",
        "    random_seed=RANDOM_STATE           # Для воспроизводимости в KFold\n",
        ")\n"
      ],
      "metadata": {
        "id": "WScOQ_MONWFp",
        "colab": {
          "base_uri": "https://localhost:8080/"
        },
        "outputId": "e6396b5e-03e3-4137-9043-e299d466c0ad"
      },
      "execution_count": 12,
      "outputs": [
        {
          "output_type": "stream",
          "name": "stdout",
          "text": [
            "========= TRAINING CatBoostRegressor =========\n",
            "FOLD 0: RMSE = 11.9451\n",
            "FOLD 1: RMSE = 11.2357\n",
            "FOLD 2: RMSE = 11.6702\n",
            "\n",
            "MEAN RMSE SCORE (mean - std): 11.33\n"
          ]
        }
      ]
    },
    {
      "cell_type": "markdown",
      "source": [
        "Сделаем предсказание для тестовой части и проверим скор на [лидерборде](https://stepik.org/lesson/779920/step/5?unit=782494)"
      ],
      "metadata": {
        "id": "TufsUWJjRJTD"
      }
    },
    {
      "cell_type": "code",
      "source": [
        "# Предсказания модели CatBoost на тестовом наборе\n",
        "cb_test_pred = cb_model.predict(test[filtered_features])\n",
        "\n",
        "\n",
        "pd.DataFrame({'car_id': test['car_id'], 'target_reg': cb_test_pred}).to_csv('cb_pred.csv', index=False)"
      ],
      "metadata": {
        "id": "oZ_LG072RTxN"
      },
      "execution_count": 13,
      "outputs": []
    },
    {
      "cell_type": "code",
      "source": [
        "# Если leaderboard_score пока неизвестен — используем просто kfold_score\n",
        "results.append({\n",
        "    'model_name': 'CatBoostRegressor',\n",
        "    'tuning': False,\n",
        "    'kfold_score': cb_score,\n",
        "    'leaderboard_score': cb_score,  # временно используем ту же метрику\n",
        "    'model': cb_model\n",
        "})\n"
      ],
      "metadata": {
        "id": "oXIWK645Nt0M"
      },
      "execution_count": 14,
      "outputs": []
    },
    {
      "cell_type": "markdown",
      "source": [
        "## **Подбор гиперпараметров и обучение модели с новыми параметрами.**"
      ],
      "metadata": {
        "id": "CcrCheXqRrZU"
      }
    },
    {
      "cell_type": "code",
      "source": [
        "# Параметры для обучения модели (fit-параметры)\n",
        "cb_fit_params = {\n",
        "    'cat_features': cat_features,     # Категориальные признаки\n",
        "    'verbose': 0,                     # Не печатать логи\n",
        "    'early_stopping_rounds': 50      # Раннее завершение обучения\n",
        "}\n",
        "\n",
        "# Сетка гиперпараметров для перебора\n",
        "cb_grid_params = {\n",
        "    'depth': [4, 6, 8],               # Глубина деревьев\n",
        "    'learning_rate': [0.01, 0.05, 0.1],  # Скорость обучения\n",
        "    'l2_leaf_reg': [1, 3, 5],         # Регуляризация\n",
        "    'bagging_temperature': [0, 1, 3], # Стохастичность\n",
        "    'iterations': [200, 300, 500]     # Кол-во итераций (бустов)\n",
        "}\n",
        "\n",
        "# Запуск гиперпараметрического поиска\n",
        "catboost_params_after_tuning = tuning_hyperparams(\n",
        "    algorithm=CatBoostRegressor,     # Модель\n",
        "    X=X, y=y,                         # Данные\n",
        "    init_params=cb_init_params,      # Базовые параметры\n",
        "    fit_params=cb_fit_params,        # Параметры .fit()\n",
        "    grid_params=cb_grid_params,      # Сетка гиперпараметров\n",
        "    n_iter=20,                        # Кол-во итераций поиска (для RandomizedSearchCV)\n",
        "    cv=3,                             # Кол-во фолдов в кросс-валидации\n",
        "    random_state=RANDOM_STATE        # Для воспроизводимости\n",
        ")\n",
        "\n",
        "# Выводим лучшие параметры\n",
        "catboost_params_after_tuning\n"
      ],
      "metadata": {
        "id": "lq73ekOdN9fw",
        "colab": {
          "base_uri": "https://localhost:8080/"
        },
        "outputId": "e2fd4b17-4658-4a33-c674-3c6a4c5b15d1"
      },
      "execution_count": 15,
      "outputs": [
        {
          "output_type": "execute_result",
          "data": {
            "text/plain": [
              "{'learning_rate': 0.05,\n",
              " 'l2_leaf_reg': 1,\n",
              " 'iterations': 300,\n",
              " 'depth': 6,\n",
              " 'bagging_temperature': 0,\n",
              " 'loss_function': 'RMSE',\n",
              " 'eval_metric': 'RMSE',\n",
              " 'thread_count': -1,\n",
              " 'task_type': 'CPU',\n",
              " 'random_seed': 101}"
            ]
          },
          "metadata": {},
          "execution_count": 15
        }
      ]
    },
    {
      "cell_type": "code",
      "source": [
        "# Обучение CatBoost с лучшими подобранными гиперпараметрами\n",
        "cb_tuning_score, cb_tuning_model = train_model(\n",
        "    algorithm=CatBoostRegressor,                  # Используем CatBoostRegressor\n",
        "    X=X,                                          # Признаки\n",
        "    y=y,                                          # Целевая переменная\n",
        "    early_stopping_rounds=50,                    # Раннее завершение при отсутствии улучшения\n",
        "    init_params=catboost_params_after_tuning,     # Лучшие параметры после гиперпараметрического поиска\n",
        "    cat_features=cat_features,                   # Список категориальных признаков\n",
        "    random_seed=RANDOM_STATE                      # Для воспроизводимости\n",
        ")\n"
      ],
      "metadata": {
        "id": "V5IZgFRlR9if",
        "colab": {
          "base_uri": "https://localhost:8080/"
        },
        "outputId": "6bb2db93-7eec-4ac1-a3e2-e3698bf31813"
      },
      "execution_count": 16,
      "outputs": [
        {
          "output_type": "stream",
          "name": "stdout",
          "text": [
            "========= TRAINING CatBoostRegressor =========\n",
            "FOLD 0: RMSE = 11.8975\n",
            "FOLD 1: RMSE = 11.2961\n",
            "FOLD 2: RMSE = 11.5059\n",
            "\n",
            "MEAN RMSE SCORE (mean - std): 11.31\n"
          ]
        }
      ]
    },
    {
      "cell_type": "markdown",
      "source": [
        "Сделаем предсказание для тестовой части и проверим скор на [лидерборде](https://stepik.org/lesson/779920/step/5?unit=782494)"
      ],
      "metadata": {
        "id": "I_PNFvpYSH9C"
      }
    },
    {
      "cell_type": "code",
      "source": [
        "# Предсказания на тестовом наборе с использованием модели после подбора гиперпараметров\n",
        "tuning_cb_test_pred = cb_tuning_model.predict(test[filtered_features])\n",
        "\n",
        "pd.DataFrame({'car_id': test['car_id'], 'target_reg': tuning_cb_test_pred}).to_csv('tuning_cb_pred.csv', index=False)"
      ],
      "metadata": {
        "id": "94G-JA6cSCYu"
      },
      "execution_count": 17,
      "outputs": []
    },
    {
      "cell_type": "code",
      "source": [
        "# Временно используем средний KFold score как оценку для leaderboard'а\n",
        "results.append({\n",
        "    'model_name': 'CatBoostRegressor',\n",
        "    'tuning': True,                                 # Модель обучена с гиперпараметрическим подбором\n",
        "    'mean_kfold_score': cb_tuning_score,            # Средний результат по кросс-валидации\n",
        "    'leaderboard_score': cb_tuning_score,           # Пока что используем ту же метрику\n",
        "    'model': cb_tuning_model                        # Сохраняем обученную модель\n",
        "})\n"
      ],
      "metadata": {
        "id": "hexgAKeWSA8x"
      },
      "execution_count": 18,
      "outputs": []
    },
    {
      "cell_type": "markdown",
      "source": [
        "# 6️⃣ **LightGBMRegressor (goss).**"
      ],
      "metadata": {
        "id": "BwSIh0ElSXe5"
      }
    },
    {
      "cell_type": "markdown",
      "source": [
        "## **Подготовка категориальных признаков.**"
      ],
      "metadata": {
        "id": "CqDuym5uSjd5"
      }
    },
    {
      "cell_type": "markdown",
      "source": [
        "[Ссылка](https://github.com/a-milenkin/Competitive_Data_Science/blob/main/notebooks/4.2%20-%20LightGBM.ipynb), если забыли, как готовить категориальные признаки"
      ],
      "metadata": {
        "id": "u5z9tNMmSxxR"
      }
    },
    {
      "cell_type": "code",
      "source": [
        "from sklearn.preprocessing import LabelEncoder\n",
        "\n",
        "X_lgb = X.copy()\n",
        "label_encoders = {}  # Словарь для хранения энкодеров\n",
        "\n",
        "\n",
        "for col in cat_features:\n",
        "    le = LabelEncoder()\n",
        "    X_lgb[col] = le.fit_transform(X_lgb[col])\n",
        "    label_encoders[col] = le  # сохраняем энкодер\n"
      ],
      "metadata": {
        "id": "vXTavKTrSXF4"
      },
      "execution_count": 35,
      "outputs": []
    },
    {
      "cell_type": "markdown",
      "source": [
        "## **Обучение модели.**"
      ],
      "metadata": {
        "id": "W63NYnc7Tejy"
      }
    },
    {
      "cell_type": "code",
      "source": [
        "from lightgbm import LGBMRegressor\n",
        "\n",
        "# Инициализация параметров для LGBMRegressor\n",
        "lgb_init_params = {\n",
        "    'boosting_type': 'gbdt',            # Классический градиентный бустинг\n",
        "    'n_jobs': -1,                       # Использовать все ядра\n",
        "    'metric': 'rmse',                   # Метрика RMSE (root mean squared error)\n",
        "    'objective': 'regression',          # Задача — регрессия\n",
        "    'random_state': RANDOM_STATE,       # Для воспроизводимости\n",
        "    'verbosity': -1,                    # Подавить вывод логов\n",
        "    'device': 'cpu'                     # Обучение на CPU (в Colab можно сменить на 'gpu')\n",
        "}\n",
        "\n",
        "# Обучение модели LGBMRegressor на закодированных данных\n",
        "lgb_score, lgb_model = train_model(\n",
        "    algorithm=LGBMRegressor,            # Используем scikit-learn обёртку LightGBM\n",
        "    X=X_lgb,                            # Признаки (категориальные — закодированы через LabelEncoder)\n",
        "    y=y,                                # Целевая переменная\n",
        "    init_params=lgb_init_params,        # Параметры модели\n",
        "    early_stopping_rounds=50,           # Раннее завершение при отсутствии улучшения\n",
        "    cat_features=cat_features,          # Названия категориальных признаков (в формате column name)\n",
        "    random_seed=RANDOM_STATE            # Для KFold и модели\n",
        ")\n"
      ],
      "metadata": {
        "id": "7ozfTucMTdM7",
        "colab": {
          "base_uri": "https://localhost:8080/"
        },
        "outputId": "5a96e3fa-9eff-4879-bed7-b8433ad22cfc"
      },
      "execution_count": 36,
      "outputs": [
        {
          "output_type": "stream",
          "name": "stdout",
          "text": [
            "========= TRAINING LGBMRegressor =========\n",
            "FOLD 0: RMSE = 12.7004\n",
            "FOLD 1: RMSE = 11.5985\n",
            "FOLD 2: RMSE = 12.0731\n",
            "\n",
            "MEAN RMSE SCORE (mean - std): 11.67\n"
          ]
        }
      ]
    },
    {
      "cell_type": "markdown",
      "source": [
        "Сделаем предсказание для тестовой части и проверим скор на [лидерборде](https://stepik.org/lesson/779920/step/5?unit=782494)"
      ],
      "metadata": {
        "id": "ZqEMTMx6Ttbe"
      }
    },
    {
      "cell_type": "code",
      "source": [
        "# Подготовка тестовых данных для LightGBM (как и train — с LabelEncoding)\n",
        "# Подготовка тестовых данных с использованием сохранённых энкодеров\n",
        "X_lgb_test = test[filtered_features].copy()\n",
        "for col in cat_features:\n",
        "    X_lgb_test[col] = label_encoders[col].transform(X_lgb_test[col])  # <-- правильный доступ\n",
        "\n",
        "\n",
        "# Предсказания модели LightGBM на тестовом наборе\n",
        "lgb_test_pred = lgb_model.predict(X_lgb_test)\n",
        "\n",
        "# Сохраняем результат в CSV\n",
        "pd.DataFrame({'car_id': test['car_id'], 'target_reg': lgb_test_pred}).to_csv('lgb_pred.csv', index=False)\n"
      ],
      "metadata": {
        "id": "pf1frOYfUE50"
      },
      "execution_count": 37,
      "outputs": []
    },
    {
      "cell_type": "code",
      "source": [
        "results.append({\n",
        "    'model_name': 'LGBMRegressor (goss)',      # Название модели с типом бустинга\n",
        "    'tuning': False,                           # Без подбора гиперпараметров\n",
        "    'mean_kfold_score': lgb_score,             # Средний RMSE по кросс-валидации\n",
        "    'leaderboard_score': lgb_score,            # Пока используем то же значение\n",
        "    'model': lgb_model                         # Сохраняем обученную модель\n",
        "})\n"
      ],
      "metadata": {
        "id": "ZDTHKxXaUK40"
      },
      "execution_count": 38,
      "outputs": []
    },
    {
      "cell_type": "markdown",
      "source": [
        "## **Подбор гиперпараметров и обучение модели с новыми параметрами**"
      ],
      "metadata": {
        "id": "LIKGKDkDXZ5K"
      }
    },
    {
      "cell_type": "code",
      "source": [
        "# Параметры, передаваемые в .fit() — важно указать категориальные признаки и метрику\n",
        "lgb_fit_params = {\n",
        "    'eval_metric': 'rmse',                  # Оценка качества (RMSE)\n",
        "    'categorical_feature': cat_features     # Категориальные признаки (в LabelEncoded виде)\n",
        "}\n",
        "\n",
        "# Сетка параметров для гиперпараметрического поиска\n",
        "lgb_grid_params = {\n",
        "    'max_depth': [4, 6, 8],                 # Максимальная глубина дерева\n",
        "    'min_data_in_leaf': [10, 20, 50],       # Минимум объектов в листе\n",
        "    'learning_rate': [0.01, 0.05, 0.1],     # Скорость обучения\n",
        "    'n_estimators': [200, 500, 1000],       # Кол-во итераций\n",
        "    'boosting_type': ['gbdt', 'goss'],      # Тип бустинга\n",
        "    'subsample': [0.7, 0.9, 1.0],           # Подвыборка (не применяется к GOSS)\n",
        "    'colsample_bytree': [0.7, 0.9, 1.0]     # Подвыборка признаков\n",
        "}\n",
        "\n",
        "# Поиск лучших гиперпараметров с кросс-валидацией\n",
        "lgb_params_after_tuning = tuning_hyperparams(\n",
        "    algorithm=LGBMRegressor,\n",
        "    X=X_lgb, y=y,\n",
        "    init_params=lgb_init_params,     # Базовые параметры (например, random_state)\n",
        "    fit_params=lgb_fit_params,       # Параметры .fit()\n",
        "    grid_params=lgb_grid_params,     # Сетка перебора\n",
        "    n_iter=20,                       # Кол-во случайных комбинаций для RandomizedSearchCV\n",
        "    cv=3,                            # Кол-во фолдов для KFold\n",
        "    random_state=RANDOM_STATE\n",
        ")\n",
        "\n",
        "# Показываем лучшие параметры\n",
        "lgb_params_after_tuning\n"
      ],
      "metadata": {
        "id": "j0I5mwCdXYcv",
        "colab": {
          "base_uri": "https://localhost:8080/"
        },
        "outputId": "66aace62-5269-4868-e0ca-f927fac5a496"
      },
      "execution_count": 39,
      "outputs": [
        {
          "output_type": "execute_result",
          "data": {
            "text/plain": [
              "{'subsample': 1.0,\n",
              " 'n_estimators': 500,\n",
              " 'min_data_in_leaf': 20,\n",
              " 'max_depth': 6,\n",
              " 'learning_rate': 0.01,\n",
              " 'colsample_bytree': 0.9,\n",
              " 'boosting_type': 'gbdt',\n",
              " 'n_jobs': -1,\n",
              " 'metric': 'rmse',\n",
              " 'objective': 'regression',\n",
              " 'random_state': 101,\n",
              " 'verbosity': -1,\n",
              " 'device': 'cpu'}"
            ]
          },
          "metadata": {},
          "execution_count": 39
        }
      ]
    },
    {
      "cell_type": "code",
      "source": [
        "# Обучение модели LGBMRegressor с подобранными гиперпараметрами\n",
        "lgb_tuning_score, lgb_tuning_model = train_model(\n",
        "    algorithm=LGBMRegressor,               # sklearn API LGBMRegressor\n",
        "    X=X_lgb,                               # Данные с LabelEncoded категориальными признаками\n",
        "    y=y,                                   # Целевая переменная\n",
        "    init_params=lgb_params_after_tuning,   # Лучшие параметры после RandomizedSearchCV\n",
        "    early_stopping_rounds=50,              # Остановка при отсутствии улучшений\n",
        "    cat_features=cat_features,             # Список категориальных признаков\n",
        "    random_seed=RANDOM_STATE               # Для воспроизводимости\n",
        ")\n"
      ],
      "metadata": {
        "id": "jne4XIAiXvaw",
        "colab": {
          "base_uri": "https://localhost:8080/"
        },
        "outputId": "3fb8d9c9-0856-443a-b12a-d7c8260474de"
      },
      "execution_count": 40,
      "outputs": [
        {
          "output_type": "stream",
          "name": "stdout",
          "text": [
            "========= TRAINING LGBMRegressor =========\n",
            "FOLD 0: RMSE = 12.2344\n",
            "FOLD 1: RMSE = 11.4121\n",
            "FOLD 2: RMSE = 11.7350\n",
            "\n",
            "MEAN RMSE SCORE (mean - std): 11.45\n"
          ]
        }
      ]
    },
    {
      "cell_type": "markdown",
      "source": [
        "Сделаем предсказание для тестовой части и проверим скор на [лидерборде](https://stepik.org/lesson/779920/step/5?unit=782494)"
      ],
      "metadata": {
        "id": "iB1gg4joX3IO"
      }
    },
    {
      "cell_type": "code",
      "source": [
        "# Добавляем модель LightGBM (с бустингом GOSS и тюнингом) в список результатов\n",
        "results.append({\n",
        "    'model_name': 'LGBMRegressor (goss)',\n",
        "    'tuning': True,                             # Использовался подбор гиперпараметров\n",
        "    'mean_kfold_score': lgb_tuning_score,       # Средняя метрика по KFold\n",
        "    'leaderboard_score': lgb_tuning_score,      # Пока используем ту же метрику\n",
        "    'model': lgb_tuning_model                   # Сохраняем модель\n",
        "})\n"
      ],
      "metadata": {
        "id": "djILQED2X2DW"
      },
      "execution_count": 41,
      "outputs": []
    },
    {
      "cell_type": "markdown",
      "source": [
        "# 7️⃣ **XGBoostRegressor (dart).**"
      ],
      "metadata": {
        "id": "WnqbWGbiYGBd"
      }
    },
    {
      "cell_type": "markdown",
      "source": [
        "## **Подготовка категориальных признаков.**"
      ],
      "metadata": {
        "id": "oRBiMOpIYTli"
      }
    },
    {
      "cell_type": "markdown",
      "source": [
        "[Ссылка](https://github.com/a-milenkin/Competitive_Data_Science/blob/main/notebooks/4.3%20-%20XGBoost.ipynb), если забыли, как готовить категориальные признаки"
      ],
      "metadata": {
        "id": "P3MWWfnhYYTH"
      }
    },
    {
      "cell_type": "code",
      "source": [
        "from sklearn.preprocessing import LabelEncoder\n",
        "\n",
        "# Создаём копию обучающих данных\n",
        "X_xgb = X.copy()\n",
        "\n",
        "# Применяем Label Encoding к категориальным признакам\n",
        "xgb_label_encoders = {}  # словарь для сохранения энкодеров, если нужно для test\n",
        "\n",
        "for col in cat_features:\n",
        "    le = LabelEncoder()\n",
        "    X_xgb[col] = le.fit_transform(X_xgb[col])\n",
        "    xgb_label_encoders[col] = le  # сохраняем энкодер для использования на test\n"
      ],
      "metadata": {
        "id": "yeqBQJt6YFYk"
      },
      "execution_count": 42,
      "outputs": []
    },
    {
      "cell_type": "markdown",
      "source": [
        "## **Обучение модели.**"
      ],
      "metadata": {
        "id": "q1Xp96DnYjsm"
      }
    },
    {
      "cell_type": "code",
      "source": [
        "from xgboost import XGBRegressor\n",
        "\n",
        "xgb_init_params = {\n",
        "    'enable_categorical': False,            # Мы уже закодировали категориальные признаки вручную\n",
        "    'booster': 'dart',                      # Используем бустинг с Dropout\n",
        "    'objective': 'reg:squarederror',        # Задача — регрессия\n",
        "    'eval_metric': 'rmse',                  # Метрика RMSE\n",
        "    'random_state': RANDOM_STATE,           # Для воспроизводимости\n",
        "    'n_jobs': -1,                           # Использовать все потоки\n",
        "    'verbosity': 0,                         # Без лишнего вывода\n",
        "\n",
        "    # Обязательные параметры для работы dart-режима\n",
        "    'rate_drop': 0.1,                       # Вероятность дропаута деревьев\n",
        "    'skip_drop': 0.5                        # Вероятность пропустить dropout шаг\n",
        "}\n",
        "\n",
        "xgb_score, xgb_model = train_model(\n",
        "    algorithm=XGBRegressor,                # Используем XGBoost через sklearn API\n",
        "    X=X_xgb,                               # Признаки с label encoding\n",
        "    y=y,                                   # Целевая переменная\n",
        "    init_params=xgb_init_params,           # Параметры модели\n",
        "    early_stopping_rounds=50,              # Раннее завершение при отсутствии улучшения\n",
        "    cat_features=cat_features,            # Передаётся, но XGBoost их уже не использует\n",
        "    random_seed=RANDOM_STATE\n",
        ")\n"
      ],
      "metadata": {
        "id": "Pj6BTBUTYiG6",
        "colab": {
          "base_uri": "https://localhost:8080/"
        },
        "outputId": "ad260490-a97a-428c-8d04-604388339ae3"
      },
      "execution_count": 43,
      "outputs": [
        {
          "output_type": "stream",
          "name": "stdout",
          "text": [
            "========= TRAINING XGBRegressor =========\n",
            "FOLD 0: RMSE = 12.3936\n",
            "FOLD 1: RMSE = 11.5977\n",
            "FOLD 2: RMSE = 11.6914\n",
            "\n",
            "MEAN RMSE SCORE (mean - std): 11.55\n"
          ]
        }
      ]
    },
    {
      "cell_type": "markdown",
      "source": [
        "Сделаем предсказание для тестовой части и проверим скор на [лидерборде](https://stepik.org/lesson/779920/step/5?unit=782494)"
      ],
      "metadata": {
        "id": "tyOQEpXNZHEL"
      }
    },
    {
      "cell_type": "code",
      "source": [
        "# Подготовка теста\n",
        "X_xgb_test = test[filtered_features].copy()\n",
        "for col in cat_features:\n",
        "    X_xgb_test[col] = xgb_label_encoders[col].transform(X_xgb_test[col])\n",
        "\n",
        "# Преобразуем в DMatrix и делаем предсказания\n",
        "dtest = xgb.DMatrix(X_xgb_test)\n",
        "xgb_test_pred = xgb_model.predict(dtest)\n",
        "\n",
        "# Сохраняем предсказания\n",
        "pd.DataFrame({'car_id': test['car_id'], 'target_reg': xgb_test_pred}).to_csv('xgb_pred.csv', index=False)\n",
        "\n"
      ],
      "metadata": {
        "id": "gZ8FrkifZWsX"
      },
      "execution_count": 45,
      "outputs": []
    },
    {
      "cell_type": "code",
      "source": [
        "results.append({\n",
        "    'model_name': 'XGBRegressor (dart)',     # Модель XGBoost с бустингом DART\n",
        "    'tuning': False,                         # Гиперпараметры не подбирались\n",
        "    'mean_kfold_score': xgb_score,           # Средняя RMSE по кросс-валидации\n",
        "    'leaderboard_score': xgb_score,          # Пока что используем ту же метрику\n",
        "    'model': xgb_model                       # Сохраняем обученную модель\n",
        "})\n"
      ],
      "metadata": {
        "id": "9X7ogmfDZKss"
      },
      "execution_count": 46,
      "outputs": []
    },
    {
      "cell_type": "markdown",
      "source": [
        "## **Подбор гиперпараметров и обучение модели с новыми параметрами**"
      ],
      "metadata": {
        "id": "dWRwaqjmZ1U5"
      }
    },
    {
      "cell_type": "code",
      "source": [
        "# Параметры для подбора гиперпараметров XGBoost\n",
        "xgb_grid_params = {\n",
        "    'max_depth': [4, 6, 8],               # Максимальная глубина дерева\n",
        "    'max_leaves': [10, 20, 30],           # Максимальное число листьев\n",
        "    'learning_rate': [0.01, 0.05, 0.1],   # Скорость обучения\n",
        "    'n_estimators': [200, 500, 1000],     # Кол-во деревьев\n",
        "    'subsample': [0.7, 0.9, 1.0],         # Подвыборка объектов\n",
        "    'colsample_bytree': [0.7, 0.9, 1.0],  # Подвыборка признаков\n",
        "    'rate_drop': [0.1, 0.3, 0.5],         # Параметры специфичные для dart\n",
        "    'skip_drop': [0.1, 0.3, 0.5]\n",
        "}\n",
        "\n",
        "# Параметры .fit() (если используешь sklearn API)\n",
        "xgb_fit_params = {\n",
        "    'verbose': False\n",
        "}\n",
        "\n",
        "# Поиск лучших параметров с кросс-валидацией\n",
        "xgb_params_after_tuning = tuning_hyperparams(\n",
        "    algorithm=XGBRegressor,            # sklearn обёртка XGBoost\n",
        "    X=X_xgb, y=y,\n",
        "    init_params=xgb_init_params,       # Базовые параметры, включая booster='dart'\n",
        "    fit_params=xgb_fit_params,         # Передаются в .fit()\n",
        "    grid_params=xgb_grid_params,       # Сетка перебора\n",
        "    n_iter=20,                         # Кол-во случайных сочетаний\n",
        "    cv=3,                              # Кол-во фолдов для KFold\n",
        "    random_state=RANDOM_STATE\n",
        ")\n",
        "\n",
        "# Смотрим лучшие параметры\n",
        "xgb_params_after_tuning\n"
      ],
      "metadata": {
        "id": "7iVV9rKkZwNV",
        "colab": {
          "base_uri": "https://localhost:8080/"
        },
        "outputId": "97bb7608-4aa3-4441-b699-cfd59ed68bf7"
      },
      "execution_count": 47,
      "outputs": [
        {
          "output_type": "execute_result",
          "data": {
            "text/plain": [
              "{'subsample': 0.9,\n",
              " 'skip_drop': 0.5,\n",
              " 'rate_drop': 0.1,\n",
              " 'n_estimators': 200,\n",
              " 'max_leaves': 30,\n",
              " 'max_depth': 8,\n",
              " 'learning_rate': 0.05,\n",
              " 'colsample_bytree': 1.0,\n",
              " 'enable_categorical': False,\n",
              " 'booster': 'dart',\n",
              " 'objective': 'reg:squarederror',\n",
              " 'eval_metric': 'rmse',\n",
              " 'random_state': 101,\n",
              " 'n_jobs': -1,\n",
              " 'verbosity': 0}"
            ]
          },
          "metadata": {},
          "execution_count": 47
        }
      ]
    },
    {
      "cell_type": "code",
      "source": [
        "# Обучение XGBRegressor (dart) с лучшими гиперпараметрами после RandomizedSearchCV\n",
        "xgb_tuning_score, xgb_tuning_model = train_model(\n",
        "    algorithm=XGBRegressor,                   # Используем XGBoost через sklearn API\n",
        "    X=X_xgb,                                  # Признаки (с LabelEncoding)\n",
        "    y=y,                                      # Целевая переменная\n",
        "    init_params=xgb_params_after_tuning,      # Подобранные параметры\n",
        "    early_stopping_rounds=50,                 # Остановка при отсутствии улучшения\n",
        "    cat_features=cat_features,                # Не используется XGBoost'ом напрямую (но нужно для совместимости)\n",
        "    random_seed=RANDOM_STATE\n",
        ")\n"
      ],
      "metadata": {
        "id": "b-L4idkFaJzV",
        "colab": {
          "base_uri": "https://localhost:8080/"
        },
        "outputId": "d44c0fc2-91ae-447b-8c51-f878c75f9296"
      },
      "execution_count": 48,
      "outputs": [
        {
          "output_type": "stream",
          "name": "stdout",
          "text": [
            "========= TRAINING XGBRegressor =========\n",
            "FOLD 0: RMSE = 15.0543\n",
            "FOLD 1: RMSE = 14.1114\n",
            "FOLD 2: RMSE = 14.3386\n",
            "\n",
            "MEAN RMSE SCORE (mean - std): 14.1\n"
          ]
        }
      ]
    },
    {
      "cell_type": "code",
      "source": [
        "# Подготовка тестовых данных (с LabelEncoding, как у X_xgb)\n",
        "X_xgb_test = test[filtered_features].copy()\n",
        "for col in cat_features:\n",
        "    X_xgb_test[col] = xgb_label_encoders[col].transform(X_xgb_test[col])\n",
        "\n",
        "# Предсказания модели XGBRegressor после тюнинга\n",
        "tuning_xgb_test_pred = xgb_tuning_model.predict(X_xgb_test)\n",
        "\n",
        "# Сохраняем результат в файл\n",
        "pd.DataFrame({'car_id': test['car_id'], 'target_reg': tuning_xgb_test_pred}).to_csv('tuning_xgb_pred.csv', index=False)\n"
      ],
      "metadata": {
        "id": "EsFq9Hx4aMcl"
      },
      "execution_count": null,
      "outputs": []
    },
    {
      "cell_type": "code",
      "source": [
        "# Добавляем модель XGBRegressor (dart) с тюнингом в список результатов\n",
        "results.append({\n",
        "    'model_name': 'XGBRegressor (dart)',        # Название модели\n",
        "    'tuning': True,                              # Использовался подбор гиперпараметров\n",
        "    'mean_kfold_score': xgb_tuning_score,        # Средняя RMSE по кросс-валидации\n",
        "    'leaderboard_score': xgb_tuning_score,       # Пока используем ту же метрику\n",
        "    'model': xgb_tuning_model                    # Сохраняем модель\n",
        "})\n"
      ],
      "metadata": {
        "id": "4nkbPZIkab9I"
      },
      "execution_count": 49,
      "outputs": []
    },
    {
      "cell_type": "markdown",
      "source": [
        "# 8️⃣ **Финальное предсказание и сохранение лучших моделей**"
      ],
      "metadata": {
        "id": "YwiwIYz6fAjl"
      }
    },
    {
      "cell_type": "code",
      "source": [
        "# Универсальная функция для извлечения score\n",
        "def get_score(entry):\n",
        "    return entry.get('mean_kfold_score') or entry.get('kfold_score') or 1e9\n",
        "\n",
        "# Лучшая CatBoost модель\n",
        "best_cb_model = min(\n",
        "    [r for r in results if 'CatBoost' in r['model_name']],\n",
        "    key=get_score\n",
        ")['model']\n",
        "best_cb_model.save_model('best_cb_model.cbm')\n",
        "\n",
        "# Лучшая LGBM модель\n",
        "best_lgb_model = min(\n",
        "    [r for r in results if 'LGBM' in r['model_name']],\n",
        "    key=get_score\n",
        ")['model']\n",
        "best_lgb_model.booster_.save_model('best_lgb_model.mod')\n",
        "\n",
        "# Лучшая XGBoost модель\n",
        "best_xgb_model = min(\n",
        "    [r for r in results if 'XGB' in r['model_name']],\n",
        "    key=get_score\n",
        ")['model']\n",
        "best_xgb_model.save_model('best_xgb_model.json')\n"
      ],
      "metadata": {
        "id": "QuuVUeQhfiix"
      },
      "execution_count": 52,
      "outputs": []
    },
    {
      "cell_type": "code",
      "source": [
        "import xgboost as xgb\n",
        "\n",
        "# --- Label Encoding теста для LGBM ---\n",
        "X_lgb_test = test[filtered_features].copy()\n",
        "for col in cat_features:\n",
        "    X_lgb_test[col] = label_encoders[col].transform(X_lgb_test[col])\n",
        "\n",
        "# --- Label Encoding теста для XGBoost ---\n",
        "X_xgb_test = test[filtered_features].copy()\n",
        "for col in cat_features:\n",
        "    X_xgb_test[col] = xgb_label_encoders[col].transform(X_xgb_test[col])\n",
        "\n",
        "# --- Предсказания от CatBoost ---\n",
        "final_cb_pred = best_cb_model.predict(test[filtered_features])\n",
        "\n",
        "# --- Предсказания от LightGBM ---\n",
        "final_lgb_pred = best_lgb_model.predict(X_lgb_test)\n",
        "\n",
        "# --- Предсказания от XGBoost (нужно обернуть в DMatrix) ---\n",
        "dtest = xgb.DMatrix(X_xgb_test)\n",
        "final_xgb_pred = best_xgb_model.predict(dtest)\n",
        "\n",
        "# --- Ансамбль (усреднение предсказаний трёх моделей) ---\n",
        "final_pred = (final_cb_pred + final_lgb_pred + final_xgb_pred) / 3\n",
        "\n",
        "# --- Сохранение в CSV ---\n",
        "pd.DataFrame({\n",
        "    'car_id': test['car_id'],\n",
        "    'target_reg': final_pred\n",
        "}).to_csv('final_submission.csv', index=False)\n"
      ],
      "metadata": {
        "id": "5DFuWvp8gPVg"
      },
      "execution_count": 54,
      "outputs": []
    },
    {
      "cell_type": "markdown",
      "source": [
        "# 9️⃣ **Выводы.**\n"
      ],
      "metadata": {
        "id": "rlLtFrs1cOh5"
      }
    },
    {
      "cell_type": "code",
      "source": [
        "results = pd.DataFrame(results)\n",
        "results"
      ],
      "metadata": {
        "id": "VuZtBfxCfh5U",
        "colab": {
          "base_uri": "https://localhost:8080/",
          "height": 238
        },
        "outputId": "a3197b16-941b-4769-967b-045a6ab6ed14"
      },
      "execution_count": 55,
      "outputs": [
        {
          "output_type": "execute_result",
          "data": {
            "text/plain": [
              "             model_name  tuning  kfold_score  leaderboard_score  \\\n",
              "0     CatBoostRegressor   False    11.328125          11.328125   \n",
              "1     CatBoostRegressor    True          NaN          11.312500   \n",
              "2  LGBMRegressor (goss)   False          NaN          11.671875   \n",
              "3  LGBMRegressor (goss)    True          NaN          11.453125   \n",
              "4   XGBRegressor (dart)   False          NaN          11.546875   \n",
              "5   XGBRegressor (dart)    True          NaN          14.101562   \n",
              "\n",
              "                                               model  mean_kfold_score  \n",
              "0  <catboost.core.CatBoostRegressor object at 0x7...               NaN  \n",
              "1  <catboost.core.CatBoostRegressor object at 0x7...         11.312500  \n",
              "2  LGBMRegressor(device='cpu', metric='rmse', n_j...         11.671875  \n",
              "3  LGBMRegressor(colsample_bytree=0.9, device='cp...         11.453125  \n",
              "4    <xgboost.core.Booster object at 0x7c69ae33b950>         11.546875  \n",
              "5    <xgboost.core.Booster object at 0x7c69e3f5c650>         14.101562  "
            ],
            "text/html": [
              "\n",
              "  <div id=\"df-46fbe942-9ff0-4d1e-9c9c-a12f1d91c7ba\" class=\"colab-df-container\">\n",
              "    <div>\n",
              "<style scoped>\n",
              "    .dataframe tbody tr th:only-of-type {\n",
              "        vertical-align: middle;\n",
              "    }\n",
              "\n",
              "    .dataframe tbody tr th {\n",
              "        vertical-align: top;\n",
              "    }\n",
              "\n",
              "    .dataframe thead th {\n",
              "        text-align: right;\n",
              "    }\n",
              "</style>\n",
              "<table border=\"1\" class=\"dataframe\">\n",
              "  <thead>\n",
              "    <tr style=\"text-align: right;\">\n",
              "      <th></th>\n",
              "      <th>model_name</th>\n",
              "      <th>tuning</th>\n",
              "      <th>kfold_score</th>\n",
              "      <th>leaderboard_score</th>\n",
              "      <th>model</th>\n",
              "      <th>mean_kfold_score</th>\n",
              "    </tr>\n",
              "  </thead>\n",
              "  <tbody>\n",
              "    <tr>\n",
              "      <th>0</th>\n",
              "      <td>CatBoostRegressor</td>\n",
              "      <td>False</td>\n",
              "      <td>11.328125</td>\n",
              "      <td>11.328125</td>\n",
              "      <td>&lt;catboost.core.CatBoostRegressor object at 0x7...</td>\n",
              "      <td>NaN</td>\n",
              "    </tr>\n",
              "    <tr>\n",
              "      <th>1</th>\n",
              "      <td>CatBoostRegressor</td>\n",
              "      <td>True</td>\n",
              "      <td>NaN</td>\n",
              "      <td>11.312500</td>\n",
              "      <td>&lt;catboost.core.CatBoostRegressor object at 0x7...</td>\n",
              "      <td>11.312500</td>\n",
              "    </tr>\n",
              "    <tr>\n",
              "      <th>2</th>\n",
              "      <td>LGBMRegressor (goss)</td>\n",
              "      <td>False</td>\n",
              "      <td>NaN</td>\n",
              "      <td>11.671875</td>\n",
              "      <td>LGBMRegressor(device='cpu', metric='rmse', n_j...</td>\n",
              "      <td>11.671875</td>\n",
              "    </tr>\n",
              "    <tr>\n",
              "      <th>3</th>\n",
              "      <td>LGBMRegressor (goss)</td>\n",
              "      <td>True</td>\n",
              "      <td>NaN</td>\n",
              "      <td>11.453125</td>\n",
              "      <td>LGBMRegressor(colsample_bytree=0.9, device='cp...</td>\n",
              "      <td>11.453125</td>\n",
              "    </tr>\n",
              "    <tr>\n",
              "      <th>4</th>\n",
              "      <td>XGBRegressor (dart)</td>\n",
              "      <td>False</td>\n",
              "      <td>NaN</td>\n",
              "      <td>11.546875</td>\n",
              "      <td>&lt;xgboost.core.Booster object at 0x7c69ae33b950&gt;</td>\n",
              "      <td>11.546875</td>\n",
              "    </tr>\n",
              "    <tr>\n",
              "      <th>5</th>\n",
              "      <td>XGBRegressor (dart)</td>\n",
              "      <td>True</td>\n",
              "      <td>NaN</td>\n",
              "      <td>14.101562</td>\n",
              "      <td>&lt;xgboost.core.Booster object at 0x7c69e3f5c650&gt;</td>\n",
              "      <td>14.101562</td>\n",
              "    </tr>\n",
              "  </tbody>\n",
              "</table>\n",
              "</div>\n",
              "    <div class=\"colab-df-buttons\">\n",
              "\n",
              "  <div class=\"colab-df-container\">\n",
              "    <button class=\"colab-df-convert\" onclick=\"convertToInteractive('df-46fbe942-9ff0-4d1e-9c9c-a12f1d91c7ba')\"\n",
              "            title=\"Convert this dataframe to an interactive table.\"\n",
              "            style=\"display:none;\">\n",
              "\n",
              "  <svg xmlns=\"http://www.w3.org/2000/svg\" height=\"24px\" viewBox=\"0 -960 960 960\">\n",
              "    <path d=\"M120-120v-720h720v720H120Zm60-500h600v-160H180v160Zm220 220h160v-160H400v160Zm0 220h160v-160H400v160ZM180-400h160v-160H180v160Zm440 0h160v-160H620v160ZM180-180h160v-160H180v160Zm440 0h160v-160H620v160Z\"/>\n",
              "  </svg>\n",
              "    </button>\n",
              "\n",
              "  <style>\n",
              "    .colab-df-container {\n",
              "      display:flex;\n",
              "      gap: 12px;\n",
              "    }\n",
              "\n",
              "    .colab-df-convert {\n",
              "      background-color: #E8F0FE;\n",
              "      border: none;\n",
              "      border-radius: 50%;\n",
              "      cursor: pointer;\n",
              "      display: none;\n",
              "      fill: #1967D2;\n",
              "      height: 32px;\n",
              "      padding: 0 0 0 0;\n",
              "      width: 32px;\n",
              "    }\n",
              "\n",
              "    .colab-df-convert:hover {\n",
              "      background-color: #E2EBFA;\n",
              "      box-shadow: 0px 1px 2px rgba(60, 64, 67, 0.3), 0px 1px 3px 1px rgba(60, 64, 67, 0.15);\n",
              "      fill: #174EA6;\n",
              "    }\n",
              "\n",
              "    .colab-df-buttons div {\n",
              "      margin-bottom: 4px;\n",
              "    }\n",
              "\n",
              "    [theme=dark] .colab-df-convert {\n",
              "      background-color: #3B4455;\n",
              "      fill: #D2E3FC;\n",
              "    }\n",
              "\n",
              "    [theme=dark] .colab-df-convert:hover {\n",
              "      background-color: #434B5C;\n",
              "      box-shadow: 0px 1px 3px 1px rgba(0, 0, 0, 0.15);\n",
              "      filter: drop-shadow(0px 1px 2px rgba(0, 0, 0, 0.3));\n",
              "      fill: #FFFFFF;\n",
              "    }\n",
              "  </style>\n",
              "\n",
              "    <script>\n",
              "      const buttonEl =\n",
              "        document.querySelector('#df-46fbe942-9ff0-4d1e-9c9c-a12f1d91c7ba button.colab-df-convert');\n",
              "      buttonEl.style.display =\n",
              "        google.colab.kernel.accessAllowed ? 'block' : 'none';\n",
              "\n",
              "      async function convertToInteractive(key) {\n",
              "        const element = document.querySelector('#df-46fbe942-9ff0-4d1e-9c9c-a12f1d91c7ba');\n",
              "        const dataTable =\n",
              "          await google.colab.kernel.invokeFunction('convertToInteractive',\n",
              "                                                    [key], {});\n",
              "        if (!dataTable) return;\n",
              "\n",
              "        const docLinkHtml = 'Like what you see? Visit the ' +\n",
              "          '<a target=\"_blank\" href=https://colab.research.google.com/notebooks/data_table.ipynb>data table notebook</a>'\n",
              "          + ' to learn more about interactive tables.';\n",
              "        element.innerHTML = '';\n",
              "        dataTable['output_type'] = 'display_data';\n",
              "        await google.colab.output.renderOutput(dataTable, element);\n",
              "        const docLink = document.createElement('div');\n",
              "        docLink.innerHTML = docLinkHtml;\n",
              "        element.appendChild(docLink);\n",
              "      }\n",
              "    </script>\n",
              "  </div>\n",
              "\n",
              "\n",
              "    <div id=\"df-16defed3-00e3-4422-abd2-4678361269ae\">\n",
              "      <button class=\"colab-df-quickchart\" onclick=\"quickchart('df-16defed3-00e3-4422-abd2-4678361269ae')\"\n",
              "                title=\"Suggest charts\"\n",
              "                style=\"display:none;\">\n",
              "\n",
              "<svg xmlns=\"http://www.w3.org/2000/svg\" height=\"24px\"viewBox=\"0 0 24 24\"\n",
              "     width=\"24px\">\n",
              "    <g>\n",
              "        <path d=\"M19 3H5c-1.1 0-2 .9-2 2v14c0 1.1.9 2 2 2h14c1.1 0 2-.9 2-2V5c0-1.1-.9-2-2-2zM9 17H7v-7h2v7zm4 0h-2V7h2v10zm4 0h-2v-4h2v4z\"/>\n",
              "    </g>\n",
              "</svg>\n",
              "      </button>\n",
              "\n",
              "<style>\n",
              "  .colab-df-quickchart {\n",
              "      --bg-color: #E8F0FE;\n",
              "      --fill-color: #1967D2;\n",
              "      --hover-bg-color: #E2EBFA;\n",
              "      --hover-fill-color: #174EA6;\n",
              "      --disabled-fill-color: #AAA;\n",
              "      --disabled-bg-color: #DDD;\n",
              "  }\n",
              "\n",
              "  [theme=dark] .colab-df-quickchart {\n",
              "      --bg-color: #3B4455;\n",
              "      --fill-color: #D2E3FC;\n",
              "      --hover-bg-color: #434B5C;\n",
              "      --hover-fill-color: #FFFFFF;\n",
              "      --disabled-bg-color: #3B4455;\n",
              "      --disabled-fill-color: #666;\n",
              "  }\n",
              "\n",
              "  .colab-df-quickchart {\n",
              "    background-color: var(--bg-color);\n",
              "    border: none;\n",
              "    border-radius: 50%;\n",
              "    cursor: pointer;\n",
              "    display: none;\n",
              "    fill: var(--fill-color);\n",
              "    height: 32px;\n",
              "    padding: 0;\n",
              "    width: 32px;\n",
              "  }\n",
              "\n",
              "  .colab-df-quickchart:hover {\n",
              "    background-color: var(--hover-bg-color);\n",
              "    box-shadow: 0 1px 2px rgba(60, 64, 67, 0.3), 0 1px 3px 1px rgba(60, 64, 67, 0.15);\n",
              "    fill: var(--button-hover-fill-color);\n",
              "  }\n",
              "\n",
              "  .colab-df-quickchart-complete:disabled,\n",
              "  .colab-df-quickchart-complete:disabled:hover {\n",
              "    background-color: var(--disabled-bg-color);\n",
              "    fill: var(--disabled-fill-color);\n",
              "    box-shadow: none;\n",
              "  }\n",
              "\n",
              "  .colab-df-spinner {\n",
              "    border: 2px solid var(--fill-color);\n",
              "    border-color: transparent;\n",
              "    border-bottom-color: var(--fill-color);\n",
              "    animation:\n",
              "      spin 1s steps(1) infinite;\n",
              "  }\n",
              "\n",
              "  @keyframes spin {\n",
              "    0% {\n",
              "      border-color: transparent;\n",
              "      border-bottom-color: var(--fill-color);\n",
              "      border-left-color: var(--fill-color);\n",
              "    }\n",
              "    20% {\n",
              "      border-color: transparent;\n",
              "      border-left-color: var(--fill-color);\n",
              "      border-top-color: var(--fill-color);\n",
              "    }\n",
              "    30% {\n",
              "      border-color: transparent;\n",
              "      border-left-color: var(--fill-color);\n",
              "      border-top-color: var(--fill-color);\n",
              "      border-right-color: var(--fill-color);\n",
              "    }\n",
              "    40% {\n",
              "      border-color: transparent;\n",
              "      border-right-color: var(--fill-color);\n",
              "      border-top-color: var(--fill-color);\n",
              "    }\n",
              "    60% {\n",
              "      border-color: transparent;\n",
              "      border-right-color: var(--fill-color);\n",
              "    }\n",
              "    80% {\n",
              "      border-color: transparent;\n",
              "      border-right-color: var(--fill-color);\n",
              "      border-bottom-color: var(--fill-color);\n",
              "    }\n",
              "    90% {\n",
              "      border-color: transparent;\n",
              "      border-bottom-color: var(--fill-color);\n",
              "    }\n",
              "  }\n",
              "</style>\n",
              "\n",
              "      <script>\n",
              "        async function quickchart(key) {\n",
              "          const quickchartButtonEl =\n",
              "            document.querySelector('#' + key + ' button');\n",
              "          quickchartButtonEl.disabled = true;  // To prevent multiple clicks.\n",
              "          quickchartButtonEl.classList.add('colab-df-spinner');\n",
              "          try {\n",
              "            const charts = await google.colab.kernel.invokeFunction(\n",
              "                'suggestCharts', [key], {});\n",
              "          } catch (error) {\n",
              "            console.error('Error during call to suggestCharts:', error);\n",
              "          }\n",
              "          quickchartButtonEl.classList.remove('colab-df-spinner');\n",
              "          quickchartButtonEl.classList.add('colab-df-quickchart-complete');\n",
              "        }\n",
              "        (() => {\n",
              "          let quickchartButtonEl =\n",
              "            document.querySelector('#df-16defed3-00e3-4422-abd2-4678361269ae button');\n",
              "          quickchartButtonEl.style.display =\n",
              "            google.colab.kernel.accessAllowed ? 'block' : 'none';\n",
              "        })();\n",
              "      </script>\n",
              "    </div>\n",
              "\n",
              "  <div id=\"id_4e75528e-35b4-4edb-b120-c1cce3426f91\">\n",
              "    <style>\n",
              "      .colab-df-generate {\n",
              "        background-color: #E8F0FE;\n",
              "        border: none;\n",
              "        border-radius: 50%;\n",
              "        cursor: pointer;\n",
              "        display: none;\n",
              "        fill: #1967D2;\n",
              "        height: 32px;\n",
              "        padding: 0 0 0 0;\n",
              "        width: 32px;\n",
              "      }\n",
              "\n",
              "      .colab-df-generate:hover {\n",
              "        background-color: #E2EBFA;\n",
              "        box-shadow: 0px 1px 2px rgba(60, 64, 67, 0.3), 0px 1px 3px 1px rgba(60, 64, 67, 0.15);\n",
              "        fill: #174EA6;\n",
              "      }\n",
              "\n",
              "      [theme=dark] .colab-df-generate {\n",
              "        background-color: #3B4455;\n",
              "        fill: #D2E3FC;\n",
              "      }\n",
              "\n",
              "      [theme=dark] .colab-df-generate:hover {\n",
              "        background-color: #434B5C;\n",
              "        box-shadow: 0px 1px 3px 1px rgba(0, 0, 0, 0.15);\n",
              "        filter: drop-shadow(0px 1px 2px rgba(0, 0, 0, 0.3));\n",
              "        fill: #FFFFFF;\n",
              "      }\n",
              "    </style>\n",
              "    <button class=\"colab-df-generate\" onclick=\"generateWithVariable('results')\"\n",
              "            title=\"Generate code using this dataframe.\"\n",
              "            style=\"display:none;\">\n",
              "\n",
              "  <svg xmlns=\"http://www.w3.org/2000/svg\" height=\"24px\"viewBox=\"0 0 24 24\"\n",
              "       width=\"24px\">\n",
              "    <path d=\"M7,19H8.4L18.45,9,17,7.55,7,17.6ZM5,21V16.75L18.45,3.32a2,2,0,0,1,2.83,0l1.4,1.43a1.91,1.91,0,0,1,.58,1.4,1.91,1.91,0,0,1-.58,1.4L9.25,21ZM18.45,9,17,7.55Zm-12,3A5.31,5.31,0,0,0,4.9,8.1,5.31,5.31,0,0,0,1,6.5,5.31,5.31,0,0,0,4.9,4.9,5.31,5.31,0,0,0,6.5,1,5.31,5.31,0,0,0,8.1,4.9,5.31,5.31,0,0,0,12,6.5,5.46,5.46,0,0,0,6.5,12Z\"/>\n",
              "  </svg>\n",
              "    </button>\n",
              "    <script>\n",
              "      (() => {\n",
              "      const buttonEl =\n",
              "        document.querySelector('#id_4e75528e-35b4-4edb-b120-c1cce3426f91 button.colab-df-generate');\n",
              "      buttonEl.style.display =\n",
              "        google.colab.kernel.accessAllowed ? 'block' : 'none';\n",
              "\n",
              "      buttonEl.onclick = () => {\n",
              "        google.colab.notebook.generateWithVariable('results');\n",
              "      }\n",
              "      })();\n",
              "    </script>\n",
              "  </div>\n",
              "\n",
              "    </div>\n",
              "  </div>\n"
            ],
            "application/vnd.google.colaboratory.intrinsic+json": {
              "type": "dataframe",
              "variable_name": "results",
              "summary": "{\n  \"name\": \"results\",\n  \"rows\": 6,\n  \"fields\": [\n    {\n      \"column\": \"model_name\",\n      \"properties\": {\n        \"dtype\": \"string\",\n        \"num_unique_values\": 3,\n        \"samples\": [\n          \"CatBoostRegressor\",\n          \"LGBMRegressor (goss)\",\n          \"XGBRegressor (dart)\"\n        ],\n        \"semantic_type\": \"\",\n        \"description\": \"\"\n      }\n    },\n    {\n      \"column\": \"tuning\",\n      \"properties\": {\n        \"dtype\": \"boolean\",\n        \"num_unique_values\": 2,\n        \"samples\": [\n          true,\n          false\n        ],\n        \"semantic_type\": \"\",\n        \"description\": \"\"\n      }\n    },\n    {\n      \"column\": \"kfold_score\",\n      \"properties\": {\n        \"dtype\": \"number\",\n        \"std\": null,\n        \"min\": 11.328125,\n        \"max\": 11.328125,\n        \"num_unique_values\": 1,\n        \"samples\": [\n          11.328125\n        ],\n        \"semantic_type\": \"\",\n        \"description\": \"\"\n      }\n    },\n    {\n      \"column\": \"leaderboard_score\",\n      \"properties\": {\n        \"dtype\": \"float16\",\n        \"num_unique_values\": 6,\n        \"samples\": [\n          11.328125\n        ],\n        \"semantic_type\": \"\",\n        \"description\": \"\"\n      }\n    },\n    {\n      \"column\": \"model\",\n      \"properties\": {\n        \"dtype\": \"object\",\n        \"semantic_type\": \"\",\n        \"description\": \"\"\n      }\n    },\n    {\n      \"column\": \"mean_kfold_score\",\n      \"properties\": {\n        \"dtype\": \"number\",\n        \"std\": 1.1725831193885574,\n        \"min\": 11.3125,\n        \"max\": 14.1015625,\n        \"num_unique_values\": 5,\n        \"samples\": [\n          11.671875\n        ],\n        \"semantic_type\": \"\",\n        \"description\": \"\"\n      }\n    }\n  ]\n}"
            }
          },
          "metadata": {},
          "execution_count": 55
        }
      ]
    },
    {
      "cell_type": "markdown",
      "source": [
        "Примеры вопросов, на которые можно ответить при формулировании вывода:\n",
        "\n",
        "- Какая модель показала лучшее качество на валидации/лидерборде?\n",
        "- Помог ли тюнинг гиперпараметров?\n",
        "- Помог ли Feature Selection?\n",
        "- Помог ли Object Selection?\n",
        "- Что поняли благодаря построенным графикам?\n",
        "- Улучшилось ли качество на лидерборде после усреднения прогнозов моделей?\n",
        "- ...\n",
        "\n"
      ],
      "metadata": {
        "id": "CIs-RqwtcXRn"
      }
    }
  ]
}